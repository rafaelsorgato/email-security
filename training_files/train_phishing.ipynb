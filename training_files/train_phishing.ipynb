{
 "cells": [
  {
   "cell_type": "code",
   "execution_count": 2,
   "metadata": {},
   "outputs": [],
   "source": [
    "# Importa bibliotecas\n",
    "import pandas as pd\n",
    "from sklearn.model_selection import train_test_split\n",
    "from sklearn.feature_extraction.text import TfidfVectorizer\n",
    "from sklearn.linear_model import LogisticRegression\n",
    "from sklearn.metrics import accuracy_score\n",
    "import joblib"
   ]
  },
  {
   "cell_type": "code",
   "execution_count": 6,
   "metadata": {},
   "outputs": [
    {
     "data": {
      "text/plain": [
       "['phishing_tfidf_vectorizer.pkl']"
      ]
     },
     "execution_count": 6,
     "metadata": {},
     "output_type": "execute_result"
    }
   ],
   "source": [
    "# Carregue o conjunto de dados\n",
    "df = pd.read_csv('phishing.csv')\n",
    "\n",
    "# Preencha valores nulos com string vazia\n",
    "data = df.where((pd.notnull(df)), '')\n",
    "\n",
    "# Obtenha as variáveis ​​de texto e rótulo\n",
    "x = data[\"Email Text\"]\n",
    "y = data[\"Email Type\"]\n",
    "\n",
    "# Divida o conjunto de dados em treinamento e teste\n",
    "X_train, X_test, Y_train, Y_test = train_test_split(x, y, test_size=0.2, random_state=3)\n",
    "\n",
    "# Crie um vetorizador TF-IDF\n",
    "feature_extraction = TfidfVectorizer(min_df=1, stop_words='english', lowercase=True)\n",
    "\n",
    "# Transforme o texto de treinamento em features TF-IDF\n",
    "X_train_features = feature_extraction.fit_transform(X_train)\n",
    "\n",
    "# Transforme o texto de teste em features TF-IDF\n",
    "X_test_features = feature_extraction.transform(X_test)\n",
    "\n",
    "# Converta as variáveis ​​de rótulo para int\n",
    "Y_train = Y_train.astype(\"int\")\n",
    "Y_test = Y_test.astype(\"int\")\n",
    "\n",
    "# Crie um modelo de regressão logística\n",
    "model = LogisticRegression()\n",
    "\n",
    "# Treine o modelo com os dados de treinamento\n",
    "model.fit(X_train_features, Y_train)\n",
    "\n",
    "# Salve o modelo treinado no arquivo 'spam_model.pkl'\n",
    "joblib.dump(model, 'phishing_model.pkl')\n",
    "\n",
    "# Salve o objeto TfidfVectorizer no arquivo 'tfidf_vectorizer.pkl'\n",
    "joblib.dump(feature_extraction, 'phishing_tfidf_vectorizer.pkl')\n"
   ]
  },
  {
   "cell_type": "code",
   "execution_count": 7,
   "metadata": {},
   "outputs": [
    {
     "name": "stdout",
     "output_type": "stream",
     "text": [
      "   Unnamed: 0                                         Email Text  Email Type\n",
      "0           0  re : 6 . 1100 , disc : uniformitarianism , re ...           0\n",
      "1           1  the other side of * galicismos * * galicismo *...           0\n",
      "2           2  re : equistar deal tickets are you still avail...           0\n",
      "3           3  \\nHello I am your hot lil horny toy.\\n    I am...           1\n",
      "4           4  software at incredibly low prices ( 86 % lower...           1\n",
      "   Unnamed: 0                                         Email Text  Email Type\n",
      "0           0  re : 6 . 1100 , disc : uniformitarianism , re ...           0\n",
      "1           1  the other side of * galicismos * * galicismo *...           0\n",
      "2           2  re : equistar deal tickets are you still avail...           0\n",
      "3           3  \\nHello I am your hot lil horny toy.\\n    I am...           1\n",
      "4           4  software at incredibly low prices ( 86 % lower...           1\n"
     ]
    }
   ],
   "source": [
    "# Visualize as primeiras linhas do conjunto de dados\n",
    "print(df.head())\n",
    "\n",
    "# Visualize as primeiras linhas do conjunto de dados preenchido\n",
    "print(data.head())\n",
    "\n",
    "# Faça previsões nos dados de treinamento\n",
    "predict_on_training_data = model.predict(X_train_features)\n",
    "\n",
    "# Calcule a acurácia no conjunto de treinamento\n",
    "accuracy_on_training_data = accuracy_score(Y_train, predict_on_training_data)\n",
    "\n",
    "# Faça previsões nos dados de teste\n",
    "prediction_on_test_data = model.predict(X_test_features)\n",
    "\n",
    "# Calcule a acurácia no conjunto de teste\n",
    "# accuracy_on_test_data = accuracy_score(Y_test, prediction_on_test_data)"
   ]
  },
  {
   "cell_type": "code",
   "execution_count": 76,
   "metadata": {},
   "outputs": [
    {
     "name": "stdout",
     "output_type": "stream",
     "text": [
      "[1]\n",
      "0.972528414302815\n",
      "é spam\n"
     ]
    }
   ],
   "source": [
    "# Carregue o vetorizador TF-IDF do arquivo 'tfidf_vectorizer.pkl'\n",
    "tfidf_vectorizer_carregado = joblib.load('phishing_tfidf_vectorizer.pkl')\n",
    "\n",
    "# Carregue o modelo treinado\n",
    "modelo_carregado = joblib.load('phishing_model.pkl')\n",
    "\n",
    "# email qualquer para testar\n",
    "input_your_mail = [\"Congratulations! You have been randomly selected to receive an amazing prize! To find out which prize you won, simply click on the link below:\"]\n",
    "\n",
    "# Transforme o texto de entrada em features TF-IDF\n",
    "input_data_features = tfidf_vectorizer_carregado.transform(input_your_mail)\n",
    "\n",
    "# Faça a predição para o texto de entrada\n",
    "print(modelo_carregado.predict(input_data_features))\n",
    "\n",
    "# Faça a predição para o texto de entrada em probabilidade\n",
    "print(modelo_carregado.predict_proba(input_data_features)[0][1])\n",
    "\n",
    "# Faça a predição para o texto para verificar se a probabilidade é maior que 70%\n",
    "if(modelo_carregado.predict_proba(input_data_features)[0][1] > 0.7):\n",
    "    print(\"it's phishing\")\n",
    "else:print(\"isn't phishing\")\n",
    "\n"
   ]
  }
 ],
 "metadata": {
  "kernelspec": {
   "display_name": "Python 3",
   "language": "python",
   "name": "python3"
  },
  "language_info": {
   "codemirror_mode": {
    "name": "ipython",
    "version": 3
   },
   "file_extension": ".py",
   "mimetype": "text/x-python",
   "name": "python",
   "nbconvert_exporter": "python",
   "pygments_lexer": "ipython3",
   "version": "3.11.4"
  }
 },
 "nbformat": 4,
 "nbformat_minor": 2
}
