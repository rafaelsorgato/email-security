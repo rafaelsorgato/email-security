{
 "cells": [
  {
   "cell_type": "code",
   "execution_count": 5,
   "metadata": {},
   "outputs": [
    {
     "data": {
      "text/plain": [
       "['modelo_treinado.pkl']"
      ]
     },
     "execution_count": 5,
     "metadata": {},
     "output_type": "execute_result"
    }
   ],
   "source": [
    "import pandas as pd\n",
    "from sklearn.model_selection import train_test_split\n",
    "from sklearn.feature_extraction.text import TfidfVectorizer \n",
    "from sklearn.linear_model import LogisticRegression\n",
    "import joblib\n",
    "\n",
    "# Carregar dados\n",
    "df = pd.read_csv('spam.csv', encoding='latin1')\n",
    "data = df.fillna('')  # Preencher valores nulos com string vazia\n",
    "\n",
    "# Preparar dados\n",
    "x = data[\"v2\"]\n",
    "y = data[\"v1\"]\n",
    "X_train, X_test, Y_train, Y_test = train_test_split(x, y, test_size=0.2, random_state=3)\n",
    "\n",
    "# Vetorizar texto\n",
    "feature_extraction = TfidfVectorizer(min_df=1, stop_words='english', lowercase=True)\n",
    "X_train_features = feature_extraction.fit_transform(X_train)\n",
    "X_test_features = feature_extraction.transform(X_test)\n",
    "\n",
    "# Treinar modelo\n",
    "model = LogisticRegression()\n",
    "model.fit(X_train_features, Y_train)\n",
    "\n",
    "joblib.dump(model, 'modelo_treinado.pkl')\n",
    "#modelo_carregado = joblib.load('modelo_treinado.pkl')\n"
   ]
  },
  {
   "cell_type": "code",
   "execution_count": 6,
   "metadata": {},
   "outputs": [
    {
     "name": "stdout",
     "output_type": "stream",
     "text": [
      "Precisão no conjunto de treinamento: 0.9661207089970832\n",
      "Precisão no conjunto de teste: 0.9623318385650225\n"
     ]
    }
   ],
   "source": [
    "# Precisão no conjunto de treinamento\n",
    "train_accuracy = model.score(X_train_features, Y_train)\n",
    "print(\"Precisão no conjunto de treinamento:\", train_accuracy)\n",
    "\n",
    "# Precisão no conjunto de teste\n",
    "test_accuracy = model.score(X_test_features, Y_test)\n",
    "print(\"Precisão no conjunto de teste:\", test_accuracy)"
   ]
  },
  {
   "cell_type": "code",
   "execution_count": 12,
   "metadata": {},
   "outputs": [
    {
     "name": "stdout",
     "output_type": "stream",
     "text": [
      "['spam']\n"
     ]
    }
   ],
   "source": [
    "# Prever para novos dados\n",
    "input_your_mail = [\"December only! Had your mobile 11mths+? You are entitled to update to the latest colour camera mobile for Free! Call The Mobile Upd\"]\n",
    "input_data_features = feature_extraction.transform(input_your_mail)\n",
    "prediction = model.predict(input_data_features)\n",
    "\n",
    "print(prediction)"
   ]
  }
 ],
 "metadata": {
  "kernelspec": {
   "display_name": "Python 3",
   "language": "python",
   "name": "python3"
  },
  "language_info": {
   "codemirror_mode": {
    "name": "ipython",
    "version": 3
   },
   "file_extension": ".py",
   "mimetype": "text/x-python",
   "name": "python",
   "nbconvert_exporter": "python",
   "pygments_lexer": "ipython3",
   "version": "3.11.4"
  }
 },
 "nbformat": 4,
 "nbformat_minor": 2
}
